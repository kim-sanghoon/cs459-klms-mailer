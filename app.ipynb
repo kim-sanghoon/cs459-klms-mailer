{
 "metadata": {
  "language_info": {
   "codemirror_mode": {
    "name": "ipython",
    "version": 3
   },
   "file_extension": ".py",
   "mimetype": "text/x-python",
   "name": "python",
   "nbconvert_exporter": "python",
   "pygments_lexer": "ipython3",
   "version": "3.9.0-final"
  },
  "orig_nbformat": 2,
  "kernelspec": {
   "name": "Python 3.9.0 64-bit",
   "display_name": "Python 3.9.0 64-bit",
   "metadata": {
    "interpreter": {
     "hash": "63fd5069d213b44bf678585dea6b12cceca9941eaf7f819626cde1f2670de90d"
    }
   }
  }
 },
 "nbformat": 4,
 "nbformat_minor": 2,
 "cells": [
  {
   "cell_type": "code",
   "execution_count": 1,
   "metadata": {},
   "outputs": [],
   "source": [
    "from selenium import webdriver\n",
    "import time, os\n",
    "\n",
    "KLMS_URL = \"http://klms.kaist.ac.kr/local/ubmessage/email_send.php?id=118949\"\n",
    "KLMS_LOG = \"http://klms.kaist.ac.kr/local/ubmessage/email_log.php?id=118949\"\n",
    "KLMS_ID  = None\n",
    "KLMS_PW  = None\n",
    "FILE_DIR = \"C:\\\\Users\\\\SeongJin\\\\Downloads\\\\cs459_practice0_graded\"\n",
    "\n",
    "SUBJECT = \"CS459 - Automation Test\"\n",
    "CONTENT = \"\"\"Dear {},\n",
    "\n",
    "This is a test e-mail of CS459 automation.\n",
    "\n",
    "If you received this e-mail, probably you are a TA.\n",
    "If you are not a TA and got this e-mail, please contact seiker@kaist.ac.kr as soon as possible.\n",
    "\n",
    "Best regards,\n",
    "Sanghoon.\"\"\""
   ]
  },
  {
   "cell_type": "code",
   "execution_count": 2,
   "metadata": {},
   "outputs": [],
   "source": [
    "browser = webdriver.Chrome(\"./chromedriver.exe\")\n",
    "\n",
    "browser.get(\"https://klms.kaist.ac.kr/login.php\")\n",
    "\n",
    "sso_btn = browser.find_element_by_css_selector(\"#login-form1 > a.btn.sso-login-btn\")\n",
    "sso_btn.click()"
   ]
  },
  {
   "cell_type": "code",
   "execution_count": 3,
   "metadata": {},
   "outputs": [],
   "source": [
    "sso_form = browser.find_element_by_css_selector(\"body > div > div > div:nth-child(3) > div > div > fieldset > ul\")\n",
    "\n",
    "i = 0\n",
    "for li in sso_form.find_elements_by_tag_name(\"li\"):\n",
    "    sso_input = li.find_element_by_tag_name(\"input\")\n",
    "\n",
    "    if i == 0:\n",
    "        sso_input.send_keys(KLMS_ID)\n",
    "    elif i == 1:\n",
    "        sso_input.send_keys(KLMS_PW)\n",
    "    elif i == 2:\n",
    "        sso_input.click()\n",
    "\n",
    "    i += 1\n",
    "\n",
    "# KAIST SSO takes some time to be finished...\n",
    "time.sleep(5)"
   ]
  },
  {
   "cell_type": "code",
   "execution_count": 4,
   "metadata": {},
   "outputs": [],
   "source": [
    "for fname in os.listdir(FILE_DIR):\n",
    "    klms_name = fname.split('_')[0]\n",
    "\n",
    "    browser.get(KLMS_URL)\n",
    "    browser.implicitly_wait(5)\n",
    "    \n",
    "    users_list = browser.find_elements_by_xpath(\"/html/body/div[2]/div[3]/div[2]/div/div/div[1]/div/div[2]/div/div/form/fieldset/div[1]/div/ul/li\")\n",
    "\n",
    "    # Processing checkbox\n",
    "    users_dict = {}\n",
    "    for li in users_list:\n",
    "        user_label = li.find_element_by_tag_name(\"label\")\n",
    "        user_title = user_label.get_attribute(\"title\")\n",
    "\n",
    "        users_dict[user_title.split(\" (\")[0]] = user_label\n",
    "\n",
    "    try:\n",
    "        user_label = users_dict[klms_name]\n",
    "        user_label.click()\n",
    "\n",
    "        subject_field = browser.find_element_by_xpath(\"/html/body/div[2]/div[3]/div[2]/div/div/div[1]/div/div[2]/div/div/form/fieldset/div[2]/div/input\")\n",
    "        content_field = browser.find_element_by_xpath(\"/html/body/div[2]/div[3]/div[2]/div/div/div[1]/div/div[2]/div/div/form/fieldset/div[3]/div/div/div[1]/div[1]/div[2]/div\")\n",
    "\n",
    "        subject_field.send_keys(SUBJECT)\n",
    "        content_field.send_keys(CONTENT.format(klms_name))\n",
    "\n",
    "        file_btn = browser.find_element_by_xpath(\"/html/body/div[2]/div[3]/div[2]/div/div/div[1]/div/div[2]/div/div/form/fieldset/div[4]/div/div/div[2]/div[1]/div[1]/div[1]/a/img\")\n",
    "        file_btn.click()\n",
    "\n",
    "        file_input = browser.find_element_by_xpath(\"/html/body/div[8]/div[2]/div/div[2]/div/div[2]/div[2]/div/div/form/div/div[1]/div/input\")\n",
    "        file_input.send_keys(FILE_DIR + '\\\\' + fname)\n",
    "\n",
    "        file_upload_btn = browser.find_element_by_xpath(\"/html/body/div[8]/div[2]/div/div[2]/div/div[2]/div[2]/div/div/div/button\")\n",
    "        file_upload_btn.click()\n",
    "\n",
    "        # Requires short sleep until the file is uploaded.\n",
    "        time.sleep(2)\n",
    "\n",
    "        send_btn = browser.find_element_by_xpath(\"/html/body/div[3]/div[3]/div[2]/div/div/div[1]/div/div[2]/div/div/form/fieldset/div[5]/button\")\n",
    "        send_btn.click()\n",
    "\n",
    "        # Requires short sleep until the e-mail is sent.\n",
    "        time.sleep(5)\n",
    "\n",
    "        while (browser.current_url != \"http://klms.kaist.ac.kr/local/ubmessage/email_log.php?id=118949\"):\n",
    "            time.sleep(1)\n",
    "\n",
    "    except Exception as e:\n",
    "        print(\"{} - error occurred.\".format(klms_name))\n",
    "        print(e)"
   ]
  },
  {
   "cell_type": "code",
   "execution_count": null,
   "metadata": {},
   "outputs": [],
   "source": [
    "browser.current_url"
   ]
  }
 ]
}